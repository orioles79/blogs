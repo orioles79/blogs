{
 "cells": [
  {
   "cell_type": "markdown",
   "metadata": {},
   "source": [
    "### 45, \"The Stock Market Record President\"  -- Thanks a Lot 44!\n",
    "\n",
    "Over the last few months in 2020, my wife would regularly come home from work exasperated at the political banter she had exchanged with her boss. He was a big 45 supporter; my wife was anything but -- and there was no common ground.  His evaluative focus was quite narrow though. A man of means, it was all about the economy or, more accurately, the stock market, stupid. And 45 delivered for him, setting index record after record while resurrecting the market from its pandemic depths -- or so he argued. The boss was quite happy with his ever-increasing capital accounts, and would regularly tease my wife: \"well, another stock market record yesterday from our incredible president.\"\n",
    "\n",
    "While my wife seethed, I cried foul: yes, the market under 45 was doing well, but no better than it did under 44's 1st term -- with two differences: 1) 44 didn't boast of market performance under his watch like 45; and 2) especially in 44's first term, the market indexes were setting no new records or high-water marks. Yet with my wife's boss, the records seemed to take on a life of their own -- as if, _per se_, they enhanced his wealth. 45's term \"trumps\" 44's first because 45 presided over so many new records, his argument went.\n",
    "\n",
    "To help my wife counter that thinking, I first proposed \"mathematical\" logic with a simple example. President X assumes office when the stock market is at 1000 with the high-water mark of the S&P 500 index at 1002. The index then progresses 2%/month for 12 months under her watch.  President Y on the other hand, starts also at 1000 and presides over 3%/month for 12 months, but with an initial market high point of 1500. At the end of the year, X's market has grown to 1000\\*1.02**12 = 1268 with 12 new \"records\", while Y's has grown to 1426 with none. A 426 profit on a 1000 investment is of course preferred to 268. _Sadly,  there's no extra credit for stock market records._\n",
    "\n",
    "Alas, that argument didn't resonate, so I proceeded to where I should have gone in the first place: with the data. The simple challenge was to compare the S&P 500 performance of 45's term in office with 44's first term, contrasting both for the growth of identical initial investments.  The analyses that follow depart with daily S&P 5000 stock market index data from Yahoo Finance (ticker ^GSPC). It's easy to download the data in R, and simple as well to wrangle them to the point they can readily contrast the performance of 44 and 45. The notebook cells below do just that. At the end, a visualization starkly summarizes much of the story.\n",
    "\n",
    "The supporting platform is a Wintel 10 notebook with 128 GB RAM, along with software JupyterLab 1.2.4 and R 4.0.2. The R data.table, tidyquant, fst, feather, and ggplot packages are featured, as well as functions from my personal stash.\n",
    "\n",
    "Let's get started."
   ]
  },
  {
   "cell_type": "markdown",
   "metadata": {},
   "source": [
    "Where are the R libraries?"
   ]
  },
  {
   "cell_type": "code",
   "execution_count": 13,
   "metadata": {},
   "outputs": [
    {
     "data": {
      "text/html": [
       "<style>\n",
       ".list-inline {list-style: none; margin:0; padding: 0}\n",
       ".list-inline>li {display: inline-block}\n",
       ".list-inline>li:not(:last-child)::after {content: \"\\00b7\"; padding: 0 .5ex}\n",
       "</style>\n",
       "<ol class=list-inline><li>'C:/R/4.0.2/library'</li><li>'C:/Program Files/R/R-4.0.2/library'</li></ol>\n"
      ],
      "text/latex": [
       "\\begin{enumerate*}\n",
       "\\item 'C:/R/4.0.2/library'\n",
       "\\item 'C:/Program Files/R/R-4.0.2/library'\n",
       "\\end{enumerate*}\n"
      ],
      "text/markdown": [
       "1. 'C:/R/4.0.2/library'\n",
       "2. 'C:/Program Files/R/R-4.0.2/library'\n",
       "\n",
       "\n"
      ],
      "text/plain": [
       "[1] \"C:/R/4.0.2/library\"                 \"C:/Program Files/R/R-4.0.2/library\""
      ]
     },
     "metadata": {},
     "output_type": "display_data"
    }
   ],
   "source": [
    ".libPaths()"
   ]
  },
  {
   "cell_type": "markdown",
   "metadata": {},
   "source": [
    "Set options and load relevant R libraries. Source a personal R function file."
   ]
  },
  {
   "cell_type": "code",
   "execution_count": 14,
   "metadata": {},
   "outputs": [
    {
     "name": "stdout",
     "output_type": "stream",
     "text": [
      "\n"
     ]
    },
    {
     "data": {
      "text/plain": [
       "allfreqs : function (dtn, catlim = 100)  \n",
       "blanks : function (howmany)  \n",
       "colsize : function (dt)  \n",
       "dtmeta : function (df)  \n",
       "freqsdt : function (DTstr, xstr, percent = TRUE)  \n",
       "meta : function (df, data = FALSE, dict = TRUE)  \n",
       "mksumfreq : function (freqalldt)  \n",
       "mksumfreq2 : function (dt)  \n",
       "mykab : function (dt)  \n",
       "obj_sz : function (obj)  \n",
       "prhead : function (df, howmany = 6)  \n",
       "prheadtail : function (df, howmany = 6)  "
      ]
     },
     "metadata": {},
     "output_type": "display_data"
    },
    {
     "name": "stdout",
     "output_type": "stream",
     "text": [
      "\n",
      " \n"
     ]
    }
   ],
   "source": [
    "options(warn=-1) \n",
    "options(scipen = 20)\n",
    "options(datatable.print.topn=100)\n",
    "options(datatable.showProgress=FALSE)\n",
    "options(stringsAsFactors=TRUE)\n",
    "\n",
    "usualsuspects <- c(\n",
    "     'data.table', 'pryr', 'plyr','readxl', 'bit',    \n",
    "    'rvest', 'magrittr','lubridate','rlist', #'dplyr',\n",
    "    'tidyquant',\n",
    "    'fst','feather',\n",
    "    'knitr', 'kableExtra',  \n",
    "    'ggplot2','RColorBrewer',\n",
    "    'patchwork','hrbrthemes'\n",
    ") \n",
    "\n",
    "suppressMessages(invisible(lapply(usualsuspects, library, character.only = TRUE)))\n",
    "\n",
    "funcsdir <- \"/steve/r/functions\"\n",
    "funcsfile <- \"rfunctions.r\"\n",
    "\n",
    "setwd(funcsdir)\n",
    "source(funcsfile)\n",
    "\n",
    "\n",
    "blanks(1)\n",
    "lsf.str()\n",
    "\n",
    "blanks(2)"
   ]
  },
  {
   "cell_type": "markdown",
   "metadata": {},
   "source": [
    "Download daily S&P 500 (ticker ^GSPC) index levels from Yahoo Finance using the splendid R tidyquant package. Wrangle said data with powerful data.table grammar. Write output files in feather and fst formats. Show the results deploying the sourced meta function. I use the \"adjusted\" attribute from data.table sp500 to indicate the end-of-day market level, though \"close\" is identical."
   ]
  },
  {
   "cell_type": "code",
   "execution_count": 15,
   "metadata": {},
   "outputs": [
    {
     "name": "stdout",
     "output_type": "stream",
     "text": [
      "\n",
      "\n",
      "|name |class                 |rows |columns|size  |\n",
      "|:----|:---------------------|:----|:------|:-----|\n",
      "|sp500|data.table, data.frame|23385|10     |1.7 MB|\n",
      "\n",
      "\n",
      "|symbol|date      |open |high |low  |close|adjusted|idx|pctch    |cumprod |\n",
      "|:-----|:---------|:----|:----|:----|:----|:-------|:--|:--------|:-------|\n",
      "|^GSPC |1927-12-30|17.66|17.66|17.66|17.66|17.66   |1  |NA       |NA      |\n",
      "|^GSPC |1928-01-03|17.76|17.76|17.76|17.76|17.76   |2  |0.005663 |1.005663|\n",
      "|^GSPC |1928-01-04|17.72|17.72|17.72|17.72|17.72   |3  |-0.002252|1.003397|\n",
      "|^GSPC |1928-01-05|17.55|17.55|17.55|17.55|17.55   |4  |-0.009594|0.993771|\n",
      "|^GSPC |1928-01-06|17.66|17.66|17.66|17.66|17.66   |5  |0.006268 |1.000000|\n",
      "|^GSPC |1928-01-09|17.50|17.50|17.50|17.50|17.50   |6  |-0.009060|0.990940|\n",
      "\n",
      "\n",
      "|symbol|date      |open   |high   |low    |close  |adjusted|idx  |pctch    |cumprod |\n",
      "|:-----|:---------|:------|:------|:------|:------|:-------|:----|:--------|:-------|\n",
      "|^GSPC |2021-01-28|3755.75|3830.50|3755.75|3787.38|3787.38 |23380|0.009761 |214.4609|\n",
      "|^GSPC |2021-01-29|3778.05|3778.05|3694.12|3714.24|3714.24 |23381|-0.019311|210.3194|\n",
      "|^GSPC |2021-02-01|3731.17|3784.32|3725.62|3773.86|3773.86 |23382|0.016052 |213.6954|\n",
      "|^GSPC |2021-02-02|3791.84|3843.09|3791.84|3826.31|3826.31 |23383|0.013898 |216.6653|\n",
      "|^GSPC |2021-02-03|3840.27|3847.51|3816.68|3830.17|3830.17 |23384|0.001009 |216.8839|\n",
      "|^GSPC |2021-02-04|3836.66|3872.42|3836.66|3871.74|3871.74 |23385|0.010853 |219.2378|\n",
      "\n",
      "Classes 'data.table' and 'data.frame':\t23385 obs. of  10 variables:\n",
      " $ symbol  : chr  \"^GSPC\" \"^GSPC\" \"^GSPC\" \"^GSPC\" ...\n",
      " $ date    : Date, format: \"1927-12-30\" \"1928-01-03\" ...\n",
      " $ open    : num  17.7 17.8 17.7 17.5 17.7 ...\n",
      " $ high    : num  17.7 17.8 17.7 17.5 17.7 ...\n",
      " $ low     : num  17.7 17.8 17.7 17.5 17.7 ...\n",
      " $ close   : num  17.7 17.8 17.7 17.5 17.7 ...\n",
      " $ adjusted: num  17.7 17.8 17.7 17.5 17.7 ...\n",
      " $ idx     : int  1 2 3 4 5 6 7 8 9 10 ...\n",
      " $ pctch   : num  NA 0.00566 -0.00225 -0.00959 0.00627 ...\n",
      " $ cumprod : num  NA 1.006 1.003 0.994 1 ...\n",
      " - attr(*, \".internal.selfref\")=<externalptr> \n",
      "NULL\n",
      "   user  system elapsed \n",
      "   0.67    0.02    1.42 \n",
      "\n",
      " \n"
     ]
    }
   ],
   "source": [
    "start <- proc.time() \n",
    "\n",
    "wdir <- \"c:/data/sp500\"\n",
    "setwd(wdir)\n",
    "\n",
    "\n",
    "symbols <- c(\"^GSPC\")\n",
    "fromdte <- \"1927-12-30\"\n",
    "\n",
    "sp500 <- data.table(tq_get(symbols,from=fromdte))[order(date)]\n",
    "setnames(sp500, tolower(gsub(\" \",\"\",names(sp500)))) \n",
    "\n",
    "sp500[,c(\"idx\",\"pctch\",\"close1\") := .(seq_len(nrow(sp500)),Delt(close),close/close[1])]\n",
    "\n",
    "nr <- nrow(sp500)\n",
    "sp500$cumprod = c(NA,cumprod(1+sp500[2:nr]$pctch))\n",
    "\n",
    "fname <- \"sp500.feather\"\n",
    "write_feather(sp500,fname)\n",
    "\n",
    "fname <- \"sp500.fst\"\n",
    "write_fst(sp500,fname)\n",
    "\n",
    "stvars <- c(\"idx\",\"date\",\"close\",\"pctch\")\n",
    "sp500st <- copy(sp500[,stvars,with=FALSE])\n",
    "\n",
    "sp500[,c(\"volume\",\"close1\"):=.(NULL,NULL)]\n",
    "\n",
    "meta(sp500,data=TRUE)\n",
    "\n",
    "stop <- proc.time() \n",
    "print(stop-start)\n",
    "\n",
    "blanks(2)"
   ]
  },
  {
   "cell_type": "markdown",
   "metadata": {},
   "source": [
    "Set pertinent inauguration dates + the start date of S&P 500 index tracking for subsequent use."
   ]
  },
  {
   "cell_type": "code",
   "execution_count": 16,
   "metadata": {},
   "outputs": [
    {
     "name": "stdout",
     "output_type": "stream",
     "text": [
      "\n",
      " \n"
     ]
    }
   ],
   "source": [
    "sp1 <- min(sp500$date)\n",
    "o1 <- \"2009-01-20\"\n",
    "o2 <- \"2013-01-21\"\n",
    "t1 <- \"2017-01-20\"\n",
    "b1 <- \"2021-01-20\"\n",
    "\n",
    "blanks(2)"
   ]
  },
  {
   "cell_type": "markdown",
   "metadata": {},
   "source": [
    "Secure the sp500 records for: 1) the start date of 44's first administration;  2) the S&P 500 high-water mark at the start of that 1st administration; and 3) the end date of the administration. Compute the ratio of beginning to end index levels, as well as the ratio of beginning to high point. 44's 1st term witnessed a 75% return -- i.e., a \\\\$1000 investment on inauguration day would have morphed to \\$1750 at term's end 4 years later. Also, the S&P 500 was just 54% of its high-water mark at the time of inauguration, implying that the index would have to increase roughly 82% to reach a new record. More, that record was set on 2007-10-09, a full 15 months before the inauguration, corroborating that 2008 was a bad year in the markets. Even with the 75% increase, no S&P high water marks were seen during 44's 1st term, as evidenced from the calcs below."
   ]
  },
  {
   "cell_type": "code",
   "execution_count": 17,
   "metadata": {},
   "outputs": [
    {
     "data": {
      "text/html": [
       "<table>\n",
       "<caption>A data.table: 1 × 10</caption>\n",
       "<thead>\n",
       "\t<tr><th scope=col>symbol</th><th scope=col>date</th><th scope=col>open</th><th scope=col>high</th><th scope=col>low</th><th scope=col>close</th><th scope=col>adjusted</th><th scope=col>idx</th><th scope=col>pctch</th><th scope=col>cumprod</th></tr>\n",
       "\t<tr><th scope=col>&lt;chr&gt;</th><th scope=col>&lt;date&gt;</th><th scope=col>&lt;dbl&gt;</th><th scope=col>&lt;dbl&gt;</th><th scope=col>&lt;dbl&gt;</th><th scope=col>&lt;dbl&gt;</th><th scope=col>&lt;dbl&gt;</th><th scope=col>&lt;int&gt;</th><th scope=col>&lt;dbl&gt;</th><th scope=col>&lt;dbl&gt;</th></tr>\n",
       "</thead>\n",
       "<tbody>\n",
       "\t<tr><td>^GSPC</td><td>2009-01-16</td><td>844.45</td><td>858.13</td><td>830.66</td><td>850.12</td><td>850.12</td><td>20352</td><td>0.007561577</td><td>48.13817</td></tr>\n",
       "</tbody>\n",
       "</table>\n"
      ],
      "text/latex": [
       "A data.table: 1 × 10\n",
       "\\begin{tabular}{llllllllll}\n",
       " symbol & date & open & high & low & close & adjusted & idx & pctch & cumprod\\\\\n",
       " <chr> & <date> & <dbl> & <dbl> & <dbl> & <dbl> & <dbl> & <int> & <dbl> & <dbl>\\\\\n",
       "\\hline\n",
       "\t \\textasciicircum{}GSPC & 2009-01-16 & 844.45 & 858.13 & 830.66 & 850.12 & 850.12 & 20352 & 0.007561577 & 48.13817\\\\\n",
       "\\end{tabular}\n"
      ],
      "text/markdown": [
       "\n",
       "A data.table: 1 × 10\n",
       "\n",
       "| symbol &lt;chr&gt; | date &lt;date&gt; | open &lt;dbl&gt; | high &lt;dbl&gt; | low &lt;dbl&gt; | close &lt;dbl&gt; | adjusted &lt;dbl&gt; | idx &lt;int&gt; | pctch &lt;dbl&gt; | cumprod &lt;dbl&gt; |\n",
       "|---|---|---|---|---|---|---|---|---|---|\n",
       "| ^GSPC | 2009-01-16 | 844.45 | 858.13 | 830.66 | 850.12 | 850.12 | 20352 | 0.007561577 | 48.13817 |\n",
       "\n"
      ],
      "text/plain": [
       "  symbol date       open   high   low    close  adjusted idx   pctch      \n",
       "1 ^GSPC  2009-01-16 844.45 858.13 830.66 850.12 850.12   20352 0.007561577\n",
       "  cumprod \n",
       "1 48.13817"
      ]
     },
     "metadata": {},
     "output_type": "display_data"
    },
    {
     "data": {
      "text/html": [
       "<table>\n",
       "<caption>A data.table: 1 × 10</caption>\n",
       "<thead>\n",
       "\t<tr><th scope=col>symbol</th><th scope=col>date</th><th scope=col>open</th><th scope=col>high</th><th scope=col>low</th><th scope=col>close</th><th scope=col>adjusted</th><th scope=col>idx</th><th scope=col>pctch</th><th scope=col>cumprod</th></tr>\n",
       "\t<tr><th scope=col>&lt;chr&gt;</th><th scope=col>&lt;date&gt;</th><th scope=col>&lt;dbl&gt;</th><th scope=col>&lt;dbl&gt;</th><th scope=col>&lt;dbl&gt;</th><th scope=col>&lt;dbl&gt;</th><th scope=col>&lt;dbl&gt;</th><th scope=col>&lt;int&gt;</th><th scope=col>&lt;dbl&gt;</th><th scope=col>&lt;dbl&gt;</th></tr>\n",
       "</thead>\n",
       "<tbody>\n",
       "\t<tr><td>^GSPC</td><td>2007-10-09</td><td>1553.18</td><td>1565.26</td><td>1551.82</td><td>1565.15</td><td>1565.15</td><td>20031</td><td>0.008096245</td><td>88.62684</td></tr>\n",
       "</tbody>\n",
       "</table>\n"
      ],
      "text/latex": [
       "A data.table: 1 × 10\n",
       "\\begin{tabular}{llllllllll}\n",
       " symbol & date & open & high & low & close & adjusted & idx & pctch & cumprod\\\\\n",
       " <chr> & <date> & <dbl> & <dbl> & <dbl> & <dbl> & <dbl> & <int> & <dbl> & <dbl>\\\\\n",
       "\\hline\n",
       "\t \\textasciicircum{}GSPC & 2007-10-09 & 1553.18 & 1565.26 & 1551.82 & 1565.15 & 1565.15 & 20031 & 0.008096245 & 88.62684\\\\\n",
       "\\end{tabular}\n"
      ],
      "text/markdown": [
       "\n",
       "A data.table: 1 × 10\n",
       "\n",
       "| symbol &lt;chr&gt; | date &lt;date&gt; | open &lt;dbl&gt; | high &lt;dbl&gt; | low &lt;dbl&gt; | close &lt;dbl&gt; | adjusted &lt;dbl&gt; | idx &lt;int&gt; | pctch &lt;dbl&gt; | cumprod &lt;dbl&gt; |\n",
       "|---|---|---|---|---|---|---|---|---|---|\n",
       "| ^GSPC | 2007-10-09 | 1553.18 | 1565.26 | 1551.82 | 1565.15 | 1565.15 | 20031 | 0.008096245 | 88.62684 |\n",
       "\n"
      ],
      "text/plain": [
       "  symbol date       open    high    low     close   adjusted idx   pctch      \n",
       "1 ^GSPC  2007-10-09 1553.18 1565.26 1551.82 1565.15 1565.15  20031 0.008096245\n",
       "  cumprod \n",
       "1 88.62684"
      ]
     },
     "metadata": {},
     "output_type": "display_data"
    },
    {
     "data": {
      "text/html": [
       "<table>\n",
       "<caption>A data.table: 1 × 10</caption>\n",
       "<thead>\n",
       "\t<tr><th scope=col>symbol</th><th scope=col>date</th><th scope=col>open</th><th scope=col>high</th><th scope=col>low</th><th scope=col>close</th><th scope=col>adjusted</th><th scope=col>idx</th><th scope=col>pctch</th><th scope=col>cumprod</th></tr>\n",
       "\t<tr><th scope=col>&lt;chr&gt;</th><th scope=col>&lt;date&gt;</th><th scope=col>&lt;dbl&gt;</th><th scope=col>&lt;dbl&gt;</th><th scope=col>&lt;dbl&gt;</th><th scope=col>&lt;dbl&gt;</th><th scope=col>&lt;dbl&gt;</th><th scope=col>&lt;int&gt;</th><th scope=col>&lt;dbl&gt;</th><th scope=col>&lt;dbl&gt;</th></tr>\n",
       "</thead>\n",
       "<tbody>\n",
       "\t<tr><td>^GSPC</td><td>2013-01-18</td><td>1480.95</td><td>1485.98</td><td>1475.81</td><td>1485.98</td><td>1485.98</td><td>21360</td><td>0.00340327</td><td>84.14383</td></tr>\n",
       "</tbody>\n",
       "</table>\n"
      ],
      "text/latex": [
       "A data.table: 1 × 10\n",
       "\\begin{tabular}{llllllllll}\n",
       " symbol & date & open & high & low & close & adjusted & idx & pctch & cumprod\\\\\n",
       " <chr> & <date> & <dbl> & <dbl> & <dbl> & <dbl> & <dbl> & <int> & <dbl> & <dbl>\\\\\n",
       "\\hline\n",
       "\t \\textasciicircum{}GSPC & 2013-01-18 & 1480.95 & 1485.98 & 1475.81 & 1485.98 & 1485.98 & 21360 & 0.00340327 & 84.14383\\\\\n",
       "\\end{tabular}\n"
      ],
      "text/markdown": [
       "\n",
       "A data.table: 1 × 10\n",
       "\n",
       "| symbol &lt;chr&gt; | date &lt;date&gt; | open &lt;dbl&gt; | high &lt;dbl&gt; | low &lt;dbl&gt; | close &lt;dbl&gt; | adjusted &lt;dbl&gt; | idx &lt;int&gt; | pctch &lt;dbl&gt; | cumprod &lt;dbl&gt; |\n",
       "|---|---|---|---|---|---|---|---|---|---|\n",
       "| ^GSPC | 2013-01-18 | 1480.95 | 1485.98 | 1475.81 | 1485.98 | 1485.98 | 21360 | 0.00340327 | 84.14383 |\n",
       "\n"
      ],
      "text/plain": [
       "  symbol date       open    high    low     close   adjusted idx   pctch     \n",
       "1 ^GSPC  2013-01-18 1480.95 1485.98 1475.81 1485.98 1485.98  21360 0.00340327\n",
       "  cumprod \n",
       "1 84.14383"
      ]
     },
     "metadata": {},
     "output_type": "display_data"
    },
    {
     "name": "stdout",
     "output_type": "stream",
     "text": [
      "\n"
     ]
    },
    {
     "data": {
      "text/html": [
       "1.75"
      ],
      "text/latex": [
       "1.75"
      ],
      "text/markdown": [
       "1.75"
      ],
      "text/plain": [
       "[1] 1.75"
      ]
     },
     "metadata": {},
     "output_type": "display_data"
    },
    {
     "data": {
      "text/html": [
       "0.54"
      ],
      "text/latex": [
       "0.54"
      ],
      "text/markdown": [
       "0.54"
      ],
      "text/plain": [
       "[1] 0.54"
      ]
     },
     "metadata": {},
     "output_type": "display_data"
    },
    {
     "name": "stdout",
     "output_type": "stream",
     "text": [
      "\n",
      " \n"
     ]
    }
   ],
   "source": [
    "ob1 <- sp500[date<o1][which(date==max(date))]\n",
    "ob1\n",
    "\n",
    "ob2 <- sp500[date<o1][which(adjusted==max(adjusted))]\n",
    "ob2\n",
    "\n",
    "ob3 <- sp500[date<o2][which(date==max(date))]\n",
    "ob3\n",
    "\n",
    "blanks(1)\n",
    "\n",
    "round(ob3$adjusted/ob1$adjusted,2)\n",
    "round(ob1$adjusted/ob2$adjusted,2)\n",
    "\n",
    "blanks(2)"
   ]
  },
  {
   "cell_type": "markdown",
   "metadata": {},
   "source": [
    "Locate new S&P 500 high-water marks under 44-1. Not an efficient coding metaphor in R, but the data volume is small."
   ]
  },
  {
   "cell_type": "code",
   "execution_count": 18,
   "metadata": {},
   "outputs": [
    {
     "name": "stdout",
     "output_type": "stream",
     "text": [
      "\n",
      " \n"
     ]
    }
   ],
   "source": [
    "high = ob2$adjusted\n",
    "records = data.table()\n",
    "\n",
    "ud = sp500[date>=o1 & date<o2]$date\n",
    "for (u in ud)\n",
    "{\n",
    "    slug <-sp500[date==u]\n",
    "    if (slug$adjusted>high)\n",
    "    {\n",
    "        records = rbind(records,data.table(date=as_date(u),high=slug$adjusted))\n",
    "        high = slug$adjusted\n",
    "    }\n",
    "}\n",
    "\n",
    "blanks(2)"
   ]
  },
  {
   "cell_type": "markdown",
   "metadata": {},
   "source": [
    "How many?"
   ]
  },
  {
   "cell_type": "code",
   "execution_count": 19,
   "metadata": {},
   "outputs": [
    {
     "data": {
      "text/html": [
       "0"
      ],
      "text/latex": [
       "0"
      ],
      "text/markdown": [
       "0"
      ],
      "text/plain": [
       "[1] 0"
      ]
     },
     "metadata": {},
     "output_type": "display_data"
    },
    {
     "name": "stdout",
     "output_type": "stream",
     "text": [
      "\n",
      " \n"
     ]
    }
   ],
   "source": [
    "nrow(records)\n",
    "\n",
    "blanks(2)"
   ]
  },
  {
   "cell_type": "markdown",
   "metadata": {},
   "source": [
    "In contrast, consider the S&P 500 performance under 45. Despite the pandemic, he managed to oversee a commendable 68% index increase. But now look at his point of departure: 99% of the S&P high point at the start of his presidency! And that \"record\" was set under 44 -- just two weeks prior to the inauguration. Establishing new high points given that boon is thus not much to brag about, though 45 took advantage, presiding over no less than 150 new S&P 500 high water marks over his term, as evidenced in the cells below."
   ]
  },
  {
   "cell_type": "code",
   "execution_count": 20,
   "metadata": {},
   "outputs": [
    {
     "data": {
      "text/html": [
       "<table>\n",
       "<caption>A data.table: 1 × 10</caption>\n",
       "<thead>\n",
       "\t<tr><th scope=col>symbol</th><th scope=col>date</th><th scope=col>open</th><th scope=col>high</th><th scope=col>low</th><th scope=col>close</th><th scope=col>adjusted</th><th scope=col>idx</th><th scope=col>pctch</th><th scope=col>cumprod</th></tr>\n",
       "\t<tr><th scope=col>&lt;chr&gt;</th><th scope=col>&lt;date&gt;</th><th scope=col>&lt;dbl&gt;</th><th scope=col>&lt;dbl&gt;</th><th scope=col>&lt;dbl&gt;</th><th scope=col>&lt;dbl&gt;</th><th scope=col>&lt;dbl&gt;</th><th scope=col>&lt;int&gt;</th><th scope=col>&lt;dbl&gt;</th><th scope=col>&lt;dbl&gt;</th></tr>\n",
       "</thead>\n",
       "<tbody>\n",
       "\t<tr><td>^GSPC</td><td>2017-01-19</td><td>2271.9</td><td>2274.33</td><td>2258.41</td><td>2263.69</td><td>2263.69</td><td>22367</td><td>-0.003609309</td><td>128.1818</td></tr>\n",
       "</tbody>\n",
       "</table>\n"
      ],
      "text/latex": [
       "A data.table: 1 × 10\n",
       "\\begin{tabular}{llllllllll}\n",
       " symbol & date & open & high & low & close & adjusted & idx & pctch & cumprod\\\\\n",
       " <chr> & <date> & <dbl> & <dbl> & <dbl> & <dbl> & <dbl> & <int> & <dbl> & <dbl>\\\\\n",
       "\\hline\n",
       "\t \\textasciicircum{}GSPC & 2017-01-19 & 2271.9 & 2274.33 & 2258.41 & 2263.69 & 2263.69 & 22367 & -0.003609309 & 128.1818\\\\\n",
       "\\end{tabular}\n"
      ],
      "text/markdown": [
       "\n",
       "A data.table: 1 × 10\n",
       "\n",
       "| symbol &lt;chr&gt; | date &lt;date&gt; | open &lt;dbl&gt; | high &lt;dbl&gt; | low &lt;dbl&gt; | close &lt;dbl&gt; | adjusted &lt;dbl&gt; | idx &lt;int&gt; | pctch &lt;dbl&gt; | cumprod &lt;dbl&gt; |\n",
       "|---|---|---|---|---|---|---|---|---|---|\n",
       "| ^GSPC | 2017-01-19 | 2271.9 | 2274.33 | 2258.41 | 2263.69 | 2263.69 | 22367 | -0.003609309 | 128.1818 |\n",
       "\n"
      ],
      "text/plain": [
       "  symbol date       open   high    low     close   adjusted idx   pctch       \n",
       "1 ^GSPC  2017-01-19 2271.9 2274.33 2258.41 2263.69 2263.69  22367 -0.003609309\n",
       "  cumprod \n",
       "1 128.1818"
      ]
     },
     "metadata": {},
     "output_type": "display_data"
    },
    {
     "data": {
      "text/html": [
       "<table>\n",
       "<caption>A data.table: 1 × 10</caption>\n",
       "<thead>\n",
       "\t<tr><th scope=col>symbol</th><th scope=col>date</th><th scope=col>open</th><th scope=col>high</th><th scope=col>low</th><th scope=col>close</th><th scope=col>adjusted</th><th scope=col>idx</th><th scope=col>pctch</th><th scope=col>cumprod</th></tr>\n",
       "\t<tr><th scope=col>&lt;chr&gt;</th><th scope=col>&lt;date&gt;</th><th scope=col>&lt;dbl&gt;</th><th scope=col>&lt;dbl&gt;</th><th scope=col>&lt;dbl&gt;</th><th scope=col>&lt;dbl&gt;</th><th scope=col>&lt;dbl&gt;</th><th scope=col>&lt;int&gt;</th><th scope=col>&lt;dbl&gt;</th><th scope=col>&lt;dbl&gt;</th></tr>\n",
       "</thead>\n",
       "<tbody>\n",
       "\t<tr><td>^GSPC</td><td>2017-01-06</td><td>2271.14</td><td>2282.1</td><td>2264.06</td><td>2276.98</td><td>2276.98</td><td>22359</td><td>0.003516959</td><td>128.9343</td></tr>\n",
       "</tbody>\n",
       "</table>\n"
      ],
      "text/latex": [
       "A data.table: 1 × 10\n",
       "\\begin{tabular}{llllllllll}\n",
       " symbol & date & open & high & low & close & adjusted & idx & pctch & cumprod\\\\\n",
       " <chr> & <date> & <dbl> & <dbl> & <dbl> & <dbl> & <dbl> & <int> & <dbl> & <dbl>\\\\\n",
       "\\hline\n",
       "\t \\textasciicircum{}GSPC & 2017-01-06 & 2271.14 & 2282.1 & 2264.06 & 2276.98 & 2276.98 & 22359 & 0.003516959 & 128.9343\\\\\n",
       "\\end{tabular}\n"
      ],
      "text/markdown": [
       "\n",
       "A data.table: 1 × 10\n",
       "\n",
       "| symbol &lt;chr&gt; | date &lt;date&gt; | open &lt;dbl&gt; | high &lt;dbl&gt; | low &lt;dbl&gt; | close &lt;dbl&gt; | adjusted &lt;dbl&gt; | idx &lt;int&gt; | pctch &lt;dbl&gt; | cumprod &lt;dbl&gt; |\n",
       "|---|---|---|---|---|---|---|---|---|---|\n",
       "| ^GSPC | 2017-01-06 | 2271.14 | 2282.1 | 2264.06 | 2276.98 | 2276.98 | 22359 | 0.003516959 | 128.9343 |\n",
       "\n"
      ],
      "text/plain": [
       "  symbol date       open    high   low     close   adjusted idx   pctch      \n",
       "1 ^GSPC  2017-01-06 2271.14 2282.1 2264.06 2276.98 2276.98  22359 0.003516959\n",
       "  cumprod \n",
       "1 128.9343"
      ]
     },
     "metadata": {},
     "output_type": "display_data"
    },
    {
     "data": {
      "text/html": [
       "<table>\n",
       "<caption>A data.table: 1 × 10</caption>\n",
       "<thead>\n",
       "\t<tr><th scope=col>symbol</th><th scope=col>date</th><th scope=col>open</th><th scope=col>high</th><th scope=col>low</th><th scope=col>close</th><th scope=col>adjusted</th><th scope=col>idx</th><th scope=col>pctch</th><th scope=col>cumprod</th></tr>\n",
       "\t<tr><th scope=col>&lt;chr&gt;</th><th scope=col>&lt;date&gt;</th><th scope=col>&lt;dbl&gt;</th><th scope=col>&lt;dbl&gt;</th><th scope=col>&lt;dbl&gt;</th><th scope=col>&lt;dbl&gt;</th><th scope=col>&lt;dbl&gt;</th><th scope=col>&lt;int&gt;</th><th scope=col>&lt;dbl&gt;</th><th scope=col>&lt;dbl&gt;</th></tr>\n",
       "</thead>\n",
       "<tbody>\n",
       "\t<tr><td>^GSPC</td><td>2021-01-19</td><td>3781.88</td><td>3804.53</td><td>3780.37</td><td>3798.91</td><td>3798.91</td><td>23373</td><td>0.008136379</td><td>215.1138</td></tr>\n",
       "</tbody>\n",
       "</table>\n"
      ],
      "text/latex": [
       "A data.table: 1 × 10\n",
       "\\begin{tabular}{llllllllll}\n",
       " symbol & date & open & high & low & close & adjusted & idx & pctch & cumprod\\\\\n",
       " <chr> & <date> & <dbl> & <dbl> & <dbl> & <dbl> & <dbl> & <int> & <dbl> & <dbl>\\\\\n",
       "\\hline\n",
       "\t \\textasciicircum{}GSPC & 2021-01-19 & 3781.88 & 3804.53 & 3780.37 & 3798.91 & 3798.91 & 23373 & 0.008136379 & 215.1138\\\\\n",
       "\\end{tabular}\n"
      ],
      "text/markdown": [
       "\n",
       "A data.table: 1 × 10\n",
       "\n",
       "| symbol &lt;chr&gt; | date &lt;date&gt; | open &lt;dbl&gt; | high &lt;dbl&gt; | low &lt;dbl&gt; | close &lt;dbl&gt; | adjusted &lt;dbl&gt; | idx &lt;int&gt; | pctch &lt;dbl&gt; | cumprod &lt;dbl&gt; |\n",
       "|---|---|---|---|---|---|---|---|---|---|\n",
       "| ^GSPC | 2021-01-19 | 3781.88 | 3804.53 | 3780.37 | 3798.91 | 3798.91 | 23373 | 0.008136379 | 215.1138 |\n",
       "\n"
      ],
      "text/plain": [
       "  symbol date       open    high    low     close   adjusted idx   pctch      \n",
       "1 ^GSPC  2021-01-19 3781.88 3804.53 3780.37 3798.91 3798.91  23373 0.008136379\n",
       "  cumprod \n",
       "1 215.1138"
      ]
     },
     "metadata": {},
     "output_type": "display_data"
    },
    {
     "name": "stdout",
     "output_type": "stream",
     "text": [
      "\n"
     ]
    },
    {
     "data": {
      "text/html": [
       "1.68"
      ],
      "text/latex": [
       "1.68"
      ],
      "text/markdown": [
       "1.68"
      ],
      "text/plain": [
       "[1] 1.68"
      ]
     },
     "metadata": {},
     "output_type": "display_data"
    },
    {
     "data": {
      "text/html": [
       "0.99"
      ],
      "text/latex": [
       "0.99"
      ],
      "text/markdown": [
       "0.99"
      ],
      "text/plain": [
       "[1] 0.99"
      ]
     },
     "metadata": {},
     "output_type": "display_data"
    },
    {
     "name": "stdout",
     "output_type": "stream",
     "text": [
      "\n",
      " \n"
     ]
    }
   ],
   "source": [
    "tr1 <- sp500[date<t1][which(date==max(date))]\n",
    "tr1\n",
    "\n",
    "tr2 <- sp500[date<t1][which(adjusted==max(adjusted))]\n",
    "tr2\n",
    "\n",
    "tr3 <- sp500[date<b1][which(date==max(date))]\n",
    "tr3\n",
    "\n",
    "blanks(1)\n",
    "\n",
    "round(tr3$adjusted/tr1$adjusted,2)\n",
    "round(tr1$adjusted/tr2$adjusted,2)\n",
    "\n",
    "blanks(2)"
   ]
  },
  {
   "cell_type": "markdown",
   "metadata": {},
   "source": [
    "Find the S&P 500 high water marks under 45."
   ]
  },
  {
   "cell_type": "code",
   "execution_count": 21,
   "metadata": {},
   "outputs": [
    {
     "name": "stdout",
     "output_type": "stream",
     "text": [
      "\n",
      " \n"
     ]
    }
   ],
   "source": [
    "high = tr2$adjusted\n",
    "records = data.table()\n",
    "\n",
    "ud = sp500[date>=t1 & date<b1]$date\n",
    "for (u in ud)\n",
    "{\n",
    "    slug <-sp500[date==u]\n",
    "    if (slug$adjusted>high)\n",
    "    {\n",
    "        records = rbind(records,data.table(date=as_date(u),high=slug$adjusted))\n",
    "        high = slug$adjusted\n",
    "    }\n",
    "}\n",
    "\n",
    "blanks(2)"
   ]
  },
  {
   "cell_type": "markdown",
   "metadata": {},
   "source": [
    "How many?"
   ]
  },
  {
   "cell_type": "code",
   "execution_count": 22,
   "metadata": {},
   "outputs": [
    {
     "data": {
      "text/html": [
       "150"
      ],
      "text/latex": [
       "150"
      ],
      "text/markdown": [
       "150"
      ],
      "text/plain": [
       "[1] 150"
      ]
     },
     "metadata": {},
     "output_type": "display_data"
    },
    {
     "name": "stdout",
     "output_type": "stream",
     "text": [
      "\n",
      " \n"
     ]
    }
   ],
   "source": [
    "nrow(records)\n",
    "\n",
    "blanks(2)"
   ]
  },
  {
   "cell_type": "markdown",
   "metadata": {},
   "source": [
    "Which ones?"
   ]
  },
  {
   "cell_type": "code",
   "execution_count": 23,
   "metadata": {},
   "outputs": [
    {
     "name": "stdout",
     "output_type": "stream",
     "text": [
      "\n",
      "\n",
      "|name   |class                 |rows|columns|size   |\n",
      "|:------|:---------------------|:---|:------|:------|\n",
      "|records|data.table, data.frame|150 |2      |3.64 KB|\n",
      "\n",
      "\n",
      "|date      |high   |\n",
      "|:---------|:------|\n",
      "|2017-01-24|2280.07|\n",
      "|2017-01-25|2298.37|\n",
      "|2017-02-09|2307.87|\n",
      "|2017-02-10|2316.10|\n",
      "|2017-02-13|2328.25|\n",
      "|2017-02-14|2337.58|\n",
      "\n",
      "\n",
      "|date      |high   |\n",
      "|:---------|:------|\n",
      "|2020-12-08|3702.25|\n",
      "|2020-12-17|3722.48|\n",
      "|2020-12-28|3735.36|\n",
      "|2020-12-31|3756.07|\n",
      "|2021-01-07|3803.79|\n",
      "|2021-01-08|3824.68|\n",
      "\n",
      "Classes 'data.table' and 'data.frame':\t150 obs. of  2 variables:\n",
      " $ date: Date, format: \"2017-01-24\" \"2017-01-25\" ...\n",
      " $ high: num  2280 2298 2308 2316 2328 ...\n",
      " - attr(*, \".internal.selfref\")=<externalptr> \n",
      "NULL\n",
      "\n",
      " \n"
     ]
    }
   ],
   "source": [
    "meta(records,data=TRUE)\n",
    "\n",
    "blanks(2)"
   ]
  },
  {
   "cell_type": "markdown",
   "metadata": {},
   "source": [
    "The visualization below, driven by R's nifty ggplot, starkly highlights 44's munificence to 45. The right panel traces S&P 500 performance over the dates of 44's first term. The y-axis on the left details the actual levels; the one on the right normalizes the levels to start at 1, thus showcasing 44's 'return'. The blue dashed line indicates the index high water mark at inauguration. Tellingly, that level, set on 2007-10-09, was 80%+ more than 44's starting value, reflecting the steep market descent in 2008. The left panel tells a similar story for 45's term. The pandemic decline is seen clearly, as is the recovery. The blue dashed line indicates 45's strong starting high water mark position, set 217-01-06, just two weeks before inauguration. 45 was clearly teed up for the bounty of market records during his term."
   ]
  },
  {
   "cell_type": "code",
   "execution_count": 24,
   "metadata": {},
   "outputs": [
    {
     "name": "stdout",
     "output_type": "stream",
     "text": [
      "\n",
      " \n"
     ]
    },
    {
     "data": {
      "image/png": "[encoded data removed]",
      "text/plain": [
       "plot without title"
      ]
     },
     "metadata": {
      "image/png": {
       "height": 480,
       "width": 840
      }
     },
     "output_type": "display_data"
    }
   ],
   "source": [
    "w1 = tail(sp500[date<o1],1)\n",
    "p1 <- ggplot(sp500[date>=w1$date & date<o2],\n",
    "    aes(x=date,y=adjusted)) + \n",
    "    geom_line() +\n",
    "    theme_ipsum() +\n",
    "    scale_y_continuous(\n",
    "    name = \"S&P 500 Index Level\\n\",\n",
    "    sec.axis = sec_axis(~.*(1/w1$adjusted),\"\\nGrowth of $1\")) +\n",
    "    geom_hline(yintercept=ob2$adjusted, linetype=\"dashed\", \n",
    "                color = \"blue\", size=1) +\n",
    "    geom_text(data = ob2, aes(x = ob1$date+400,  y = adjusted+25, label = paste0(ob2$date,\" :: \",round(adjusted,2))),col='black',size=4) +\n",
    "\n",
    "    \n",
    "    labs(title=\"S&P 500 Performance Under 44.1\", x=\"\\nYear\")  \n",
    "\n",
    "w2 = tail(sp500[date<t1],1)\n",
    "p2 <- ggplot(sp500[date>=w2$date & date<b1],\n",
    "    aes(x=date,y=adjusted)) + \n",
    "    geom_line() +\n",
    "    theme_ipsum() +\n",
    "    scale_y_continuous(\n",
    "    name = \"S&P 500 Index Level\\n\",\n",
    "    sec.axis = sec_axis(~.*(1/w2$adjusted),\"\\nGrowth of $1\")) +\n",
    "    geom_hline(yintercept=tr2$adjusted, linetype=\"dashed\", \n",
    "                color = \"blue\", size=1) +\n",
    "     geom_text(data = tr2, aes(x = tr1$date+400,  y = adjusted+50, label = paste0(tr2$date,\" :: \",round(adjusted,2))),col='black',size=4) +\n",
    "   \n",
    "    labs(title=\"S&P 500 Performance Under 45\", x=\"\\nYear\")  \n",
    "\n",
    "\n",
    "options(repr.plot.width=14, repr.plot.height=8)\n",
    "\n",
    "p1+p2\n",
    "\n",
    "blanks(2)"
   ]
  },
  {
   "cell_type": "markdown",
   "metadata": {},
   "source": [
    "In sum, 45's claim to being \"the stock market record president\" is not without some merit. Under his watch, the S&P 500 grew 68%, setting new high water marks no less than 150 times. And yet he was unable to shake his hated predecessor 44, who \"delivered\" superior 75% market growth his first term unobtrusively. Moreover, it's easy to see what a nothing burger is the boast of setting high water mark after high-water mark of S&P 500 index levels. Such records have little to do with either presidential prowess or market returns, but rather are mostly dependent on a fortuitously inherited starting position. Indeed, had the market index been at 54% of its high water mark at 45's inauguration, he too would have set no records. Aren't counterfactuals \"nasty\"? In the end, 44 got a terrible start from 43, while 45 got a great one from 44. Thanks a lot 44! "
   ]
  },
  {
   "cell_type": "code",
   "execution_count": null,
   "metadata": {},
   "outputs": [],
   "source": []
  }
 ],
 "metadata": {
  "kernelspec": {
   "display_name": "R 4.0.2",
   "language": "R",
   "name": "ir402"
  },
  "language_info": {
   "codemirror_mode": "r",
   "file_extension": ".r",
   "mimetype": "text/x-r-source",
   "name": "R",
   "pygments_lexer": "r",
   "version": "4.0.2"
  }
 },
 "nbformat": 4,
 "nbformat_minor": 4
}
