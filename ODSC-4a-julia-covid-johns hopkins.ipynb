{
 "cells": [
  {
   "cell_type": "markdown",
   "metadata": {},
   "source": [
    "![](http://www2.pictures.zimbio.com/bg/Julia+Roberts+Tqw8BcxIW45m.jpg)"
   ]
  },
  {
   "cell_type": "markdown",
   "metadata": {},
   "source": [
    "### Julia for Management/Analysis of Johns Hopkins Covid Data\n",
    "\n",
    "Like many analytics geeks, I've been tracking data on the Covid pandemic since early spring.  My source is the [Center for Systems Science and Engineering at Johns Hopkins University](https://github.com/CSSEGISandData/COVID-19/tree/master/csse_covid_19_data/csse_covid_19_time_series), with files for download made available at midnight Central time. I've established a pretty [significant R infrastructure in JupyterLab](https://www.datasciencecentral.com/profiles/blogs/johns-hopkins-covid-19-and-r-part-iii-world-data-1) to summarize daily developments. The combination of R data.table and tidyverse programming capabilities has made the computation straightforward. \n",
    "\n",
    "There are a few quirks with the data, though, that make it a suitable challenge for less mature data management platforms. The Hopkins data consists of two CSV files, the first detailing Covid cases by date in the U.S., the second U.S. Covid fatalities. Both files are organized similarly. The granularity is sub-state, generally representing counties or other geographic administrations. Each day's data adds a new column depicting cumulative cases/fatalities for the day. The downloaded data must first be pivoted or melted to transform the date columns into rows. split/apply/combine computations within the administrative geography key, uid, then produce daily cases and fatalities. The cases and fatalities dataframes are finally joined to produce a final that's the source of analysis. \n",
    "\n",
    "For this blog, I investigate the handling of my Covid data in Julia, using its dataframe package primarily. In subsequent posts, I'll consider Python/Pandas and the new Python datatable. The focus of this exercise is data analysis, consisting of basic wrangling plus display of computations -- both in list and graphical modes. Heavier statistical/ML exercises will come in future blogs.\n",
    "\n",
    "The code that follows first reads and munges daily cases and fatalities CSV files downloaded from the Hopkins Covid data portal, computing additional attributes such as running sums and moving averages. In the end, I display stats with both listings and graphics.\n",
    "\n",
    "The results of this inquiry are encouraging. Indeed, I ran into few snarls in the programming journey. I found Julia 1.5.2 much easier to work with than its predecessors, the result of both functionality enhancement/stabilization and documentation availability -- especially tips in StackOverFlow. That's a welcome sign. The performance of Julia is acceptable, actually better than I've experienced so far, though still lagging R and Python on JupyterLab. At least part of this deficit I suspect is that Windows and Jupyter are not ideal Julia staging platforms. In addition, I believe Julia shines more in intensive algorithmic computation than it does in data management/analysis.\n",
    "\n",
    "The software used below is JupyterLab 2.1.2, Julia 1.5.2, Python 3.7.5, and R 4.0.2. I'll continue investigating Julia for data analysis next time, with a special focus then on divining interoperability with R and Python. \n"
   ]
  },
  {
   "cell_type": "code",
   "execution_count": 1,
   "metadata": {},
   "outputs": [],
   "source": [
    "###############################\n",
    "###############################"
   ]
  },
  {
   "cell_type": "code",
   "execution_count": null,
   "metadata": {},
   "outputs": [],
   "source": []
  },
  {
   "cell_type": "code",
   "execution_count": 2,
   "metadata": {},
   "outputs": [],
   "source": [
    "using Pkg\n",
    "using DataFrames\n",
    "using RDatasets\n",
    "using CSV\n",
    "using DataFramesMeta\n",
    "using Base\n",
    "using Dates\n",
    "using Feather\n",
    "using Gadfly\n",
    "using DataTables\n",
    "using RollingFunctions\n",
    "using Printf\n",
    "using Feather\n",
    "using Glob\n",
    "#using RCall\n",
    "using PyCall\n",
    "using PyPlot\n"
   ]
  },
  {
   "cell_type": "code",
   "execution_count": null,
   "metadata": {},
   "outputs": [],
   "source": []
  },
  {
   "cell_type": "code",
   "execution_count": 3,
   "metadata": {},
   "outputs": [
    {
     "data": {
      "text/plain": [
       "masm_1 (generic function with 1 method)"
      ]
     },
     "execution_count": 3,
     "metadata": {},
     "output_type": "execute_result"
    }
   ],
   "source": [
    "fd = \"c:/steve/julia\"\n",
    "cd(fd)\n",
    "\n",
    "fn = \"functions.jl\"\n",
    "include(fn)"
   ]
  },
  {
   "cell_type": "code",
   "execution_count": null,
   "metadata": {},
   "outputs": [],
   "source": []
  },
  {
   "cell_type": "code",
   "execution_count": 4,
   "metadata": {},
   "outputs": [
    {
     "name": "stdout",
     "output_type": "stream",
     "text": [
      "DataFrame\n",
      "(1082160, 16)\n",
      "Any[\"uid\" Int64; \"iso2\" String; \"iso3\" String; \"code3\" Int64; \"fips\" Union{Missing, Float64}; \"admin2\" Union{Missing, String}; \"provincestate\" String; \"countryregion\" String; \"lat\" Float64; \"long\" Float64; \"combinedkey\" String; \"date\" Date; \"cumcases\" Int64; \"dailycases\" Union{Missing, Int64}; \"cumdeaths\" Int64; \"dailydeaths\" Union{Missing, Int64}]\n",
      "\n",
      "\n",
      "5×16 DataFrame\n",
      "│ Row │ uid      │ iso2   │ iso3   │ code3 │ fips     │ admin2  │ provincestate  │ countryregion │ lat     │ long    │ combinedkey        │ date       │ cumcases │ dailycases │ cumdeaths │ dailydeaths │\n",
      "│     │ \u001b[90mInt64\u001b[39m    │ \u001b[90mString\u001b[39m │ \u001b[90mString\u001b[39m │ \u001b[90mInt64\u001b[39m │ \u001b[90mFloat64?\u001b[39m │ \u001b[90mString?\u001b[39m │ \u001b[90mString\u001b[39m         │ \u001b[90mString\u001b[39m        │ \u001b[90mFloat64\u001b[39m │ \u001b[90mFloat64\u001b[39m │ \u001b[90mString\u001b[39m             │ \u001b[90mDate\u001b[39m       │ \u001b[90mInt64\u001b[39m    │ \u001b[90mInt64?\u001b[39m     │ \u001b[90mInt64\u001b[39m     │ \u001b[90mInt64?\u001b[39m      │\n",
      "├─────┼──────────┼────────┼────────┼───────┼──────────┼─────────┼────────────────┼───────────────┼─────────┼─────────┼────────────────────┼────────────┼──────────┼────────────┼───────────┼─────────────┤\n",
      "│ 1   │ 84099999 │ US     │ USA    │ 840   │ 99999.0  │ \u001b[90mmissing\u001b[39m │ Grand Princess │ US            │ 0.0     │ 0.0     │ Grand Princess, US │ 0020-12-06 │ 103      │ 0          │ 3         │ 0           │\n",
      "│ 2   │ 84099999 │ US     │ USA    │ 840   │ 99999.0  │ \u001b[90mmissing\u001b[39m │ Grand Princess │ US            │ 0.0     │ 0.0     │ Grand Princess, US │ 0020-12-07 │ 103      │ 0          │ 3         │ 0           │\n",
      "│ 3   │ 84099999 │ US     │ USA    │ 840   │ 99999.0  │ \u001b[90mmissing\u001b[39m │ Grand Princess │ US            │ 0.0     │ 0.0     │ Grand Princess, US │ 0020-12-08 │ 103      │ 0          │ 3         │ 0           │\n",
      "│ 4   │ 84099999 │ US     │ USA    │ 840   │ 99999.0  │ \u001b[90mmissing\u001b[39m │ Grand Princess │ US            │ 0.0     │ 0.0     │ Grand Princess, US │ 0020-12-09 │ 103      │ 0          │ 3         │ 0           │\n",
      "│ 5   │ 84099999 │ US     │ USA    │ 840   │ 99999.0  │ \u001b[90mmissing\u001b[39m │ Grand Princess │ US            │ 0.0     │ 0.0     │ Grand Princess, US │ 0020-12-10 │ 103      │ 0          │ 3         │ 0           │\n",
      "\n"
     ]
    }
   ],
   "source": [
    "wdir = \"/data/covid19/julia\"\n",
    "cd(wdir)\n",
    "\n",
    "fname = \"covidfinal.feather\"\n",
    "covidfinal = Feather.read(fname)\n",
    "\n",
    "df = DateFormat(\"YY-mm-dd\");\n",
    "covidfinal[:date] = [Date(string(d),df) for d in covidfinal[:date]]\n",
    "\n",
    "metaj(covidfinal)\n",
    "\n",
    "print(last(covidfinal,5))\n",
    "\n",
    "pr(2)"
   ]
  },
  {
   "cell_type": "code",
   "execution_count": 5,
   "metadata": {},
   "outputs": [
    {
     "name": "stdout",
     "output_type": "stream",
     "text": [
      "DataFrame\n",
      "(324, 10)\n",
      "Any[\"date\" Date; \"dailycases\" Int64; \"dailydeaths\" Int64; \"dayofweek\" String; \"cumcases\" Int64; \"cumdeaths\" Int64; \"macases7\" Union{Missing, Float64}; \"madeaths7\" Union{Missing, Float64}; \"macases14\" Union{Missing, Float64}; \"madeaths14\" Union{Missing, Float64}]\n",
      "\n",
      "\n",
      "\n",
      "\n",
      "14×10 DataFrame\n",
      "│ Row │ date       │ dailycases │ dailydeaths │ dayofweek │ cumcases │ cumdeaths │ macases7 │ madeaths7 │ macases14 │ madeaths14 │\n",
      "│     │ \u001b[90mDate\u001b[39m       │ \u001b[90mInt64\u001b[39m      │ \u001b[90mInt64\u001b[39m       │ \u001b[90mString\u001b[39m    │ \u001b[90mInt64\u001b[39m    │ \u001b[90mInt64\u001b[39m     │ \u001b[90mFloat64?\u001b[39m │ \u001b[90mFloat64?\u001b[39m  │ \u001b[90mFloat64?\u001b[39m  │ \u001b[90mFloat64?\u001b[39m   │\n",
      "├─────┼────────────┼────────────┼─────────────┼───────────┼──────────┼───────────┼──────────┼───────────┼───────────┼────────────┤\n",
      "│ 1   │ 0020-11-27 │ 205514     │ 1402        │ Fri       │ 13088820 │ 264858    │ 166123.0 │ 1477.0    │ 167001.0  │ 1461.0     │\n",
      "│ 2   │ 0020-11-28 │ 155880     │ 1189        │ Sat       │ 13244700 │ 266047    │ 162949.0 │ 1443.0    │ 166224.0  │ 1456.0     │\n",
      "│ 3   │ 0020-11-29 │ 138633     │ 826         │ Sun       │ 13383333 │ 266873    │ 162353.0 │ 1429.0    │ 166417.0  │ 1470.0     │\n",
      "│ 4   │ 0020-11-30 │ 157851     │ 1172        │ Mon       │ 13541184 │ 268045    │ 160401.0 │ 1466.0    │ 166419.0  │ 1501.0     │\n",
      "│ 5   │ 0020-12-01 │ 180637     │ 2597        │ Tue       │ 13721821 │ 270642    │ 161494.0 │ 1530.0    │ 167852.0  │ 1566.0     │\n",
      "│ 6   │ 0020-12-02 │ 200107     │ 2804        │ Wed       │ 13921928 │ 273446    │ 164182.0 │ 1603.0    │ 169966.0  │ 1630.0     │\n",
      "│ 7   │ 0020-12-03 │ 217680     │ 2879        │ Thu       │ 14139608 │ 276325    │ 179472.0 │ 1838.0    │ 172083.0  │ 1694.0     │\n",
      "│ 8   │ 0020-12-04 │ 227828     │ 2607        │ Fri       │ 14367436 │ 278932    │ 182659.0 │ 2011.0    │ 174391.0  │ 1744.0     │\n",
      "│ 9   │ 0020-12-05 │ 213881     │ 2254        │ Sat       │ 14581317 │ 281186    │ 190945.0 │ 2163.0    │ 176947.0  │ 1803.0     │\n",
      "│ 10  │ 0020-12-06 │ 175664     │ 1113        │ Sun       │ 14756981 │ 282299    │ 196235.0 │ 2204.0    │ 179294.0  │ 1816.0     │\n",
      "│ 11  │ 0020-12-07 │ 192435     │ 1404        │ Mon       │ 14949416 │ 283703    │ 201176.0 │ 2237.0    │ 180788.0  │ 1852.0     │\n",
      "│ 12  │ 0020-12-08 │ 215878     │ 2546        │ Tue       │ 15165294 │ 286249    │ 206210.0 │ 2230.0    │ 183852.0  │ 1880.0     │\n",
      "│ 13  │ 0020-12-09 │ 221267     │ 3124        │ Wed       │ 15386561 │ 289373    │ 209233.0 │ 2275.0    │ 186708.0  │ 1939.0     │\n",
      "│ 14  │ 0020-12-10 │ 224452     │ 2768        │ Thu       │ 15611013 │ 292141    │ 210201.0 │ 2259.0    │ 194836.0  │ 2049.0     │\n",
      "\n"
     ]
    }
   ],
   "source": [
    "ustotal = by(covidfinal, [:date], :dailycases => sumna => :dailycases, :dailydeaths => sumna => :dailydeaths);\n",
    "\n",
    "ustotal[\"dayofweek\"] = Dates.format.(ustotal.date,\"e\")\n",
    "ustotal[:cumcases] = cumsum(ustotal.dailycases)\n",
    "ustotal[:cumdeaths] = cumsum(ustotal.dailydeaths)\n",
    "\n",
    "ustotal[:macases7] = masm_1(ustotal[:dailycases],window=7);\n",
    "ustotal[:madeaths7] = masm_1(ustotal[:dailydeaths],window=7);\n",
    "ustotal[:macases14] = masm_1(ustotal[:dailycases],window=14);\n",
    "ustotal[:madeaths14] = masm_1(ustotal[:dailydeaths],window=14);\n",
    "\n",
    "metaj(ustotal)\n",
    "pr(2)\n",
    "print(last(ustotal,14))\n",
    "\n",
    "pr(2)"
   ]
  },
  {
   "cell_type": "code",
   "execution_count": 6,
   "metadata": {},
   "outputs": [
    {
     "name": "stdout",
     "output_type": "stream",
     "text": [
      "\n",
      "\n"
     ]
    }
   ],
   "source": [
    "last30 = last(ustotal,30);\n",
    "last15 = last(ustotal,15);\n",
    "\n",
    "pr(2)"
   ]
  },
  {
   "cell_type": "raw",
   "metadata": {},
   "source": [
    "function ticks(len,skip)\n",
    "    return(sort(unique(vcat(collect(1:skip:len),[len]...))))\n",
    "end\n",
    "\n",
    "pr(2)"
   ]
  },
  {
   "cell_type": "code",
   "execution_count": 7,
   "metadata": {},
   "outputs": [
    {
     "name": "stdout",
     "output_type": "stream",
     "text": [
      "\n",
      "\n"
     ]
    }
   ],
   "source": [
    "function dtticks(dtarr,skip)\n",
    "    len = length(dtarr)\n",
    "    return(dtarr[sort(unique(vcat(collect(1:skip:len),[len]...)))])\n",
    "end\n",
    "\n",
    "pr(2)"
   ]
  },
  {
   "cell_type": "code",
   "execution_count": 8,
   "metadata": {},
   "outputs": [
    {
     "data": {
      "text/plain": [
       "PyObject <module 'seaborn' from 'C:\\\\ProgramData\\\\Anaconda3\\\\lib\\\\site-packages\\\\seaborn\\\\__init__.py'>"
      ]
     },
     "execution_count": 8,
     "metadata": {},
     "output_type": "execute_result"
    }
   ],
   "source": [
    "sb = pyimport(\"seaborn\")"
   ]
  },
  {
   "cell_type": "raw",
   "metadata": {},
   "source": [
    "wd = \"c:/data/julia\"\n",
    "cd(wd)\n",
    "\n",
    "fig, (ax1, ax2) = subplots(1,2,figsize=(10,6))\n",
    "\n",
    "sb.set_style(\"darkgrid\")\n",
    "\n",
    "tit1 = @sprintf \"Covid 19 in the U.S.\\n7 Day Moving Average of Cases\\n%s thru %s (last 30 days)\\nTotal Cases: %s\\n\"  first(last30).date last(last30).date last(last30).cumcases;\n",
    "tit2 = @sprintf \"Covid 19 in the U.S.\\n7 Day Moving Average of Deaths\\n%s thru %s (last 15 days)\\nTotal Cases: %s\\n\"  first(last15).date last(last15).date last(last15).cumdeaths;\n",
    "\n",
    "plotcases=sb.lineplot(x=last30.date, y=last30.macases7,marker=\"o\",ax=ax1)\n",
    "plotcases.set_xticks(last30.date[ticks(size(last30)[1],3)])\n",
    "plotcases.set_xticklabels(rotation=45,labels=last30.date[ticks(size(last30)[1],3)],size=6)\n",
    "plotcases.set_yticks(collect(40000:20000:160000))\n",
    "plotcases.set_yticklabels(collect(40000:20000:160000),size=6)\n",
    "ax1.set_title(label=tit1,size=6) \n",
    "\n",
    "plotdeaths=sb.lineplot(x=last15.date, y=last15.madeaths7,marker=\"o\",ax=ax2)\n",
    "PyPlot.yticks(size=6) \n",
    "plotdeaths.set_xticks(last15.date[collect(1:2:15)])\n",
    "plotdeaths.set_xticklabels(rotation=45,labels=last15.date[collect(1:2:15)],size=6)\n",
    "ax2.set_title(label=tit2,size=6) \n",
    "plotdeaths.set(ylim=[700,1200])\n",
    "\n",
    "fig.savefig(\"7ma.png\")\n",
    "\n",
    "pr(2)"
   ]
  },
  {
   "cell_type": "code",
   "execution_count": 10,
   "metadata": {},
   "outputs": [
    {
     "data": {
      "image/png": "[encoded data removed]",
      "text/plain": [
       "Figure(PyObject <Figure size 1000x600 with 2 Axes>)"
      ]
     },
     "metadata": {},
     "output_type": "display_data"
    },
    {
     "name": "stdout",
     "output_type": "stream",
     "text": [
      "\n",
      "\n"
     ]
    }
   ],
   "source": [
    "wd = \"c:/data/julia\"\n",
    "cd(wd)\n",
    "\n",
    "fig, (ax1, ax2) = subplots(1,2,figsize=(10,6))\n",
    "\n",
    "sb.set_style(\"darkgrid\")\n",
    "\n",
    "tit1 = @sprintf \"Covid 19 in the U.S.\\n7 Day Moving Average of Cases\\n%s thru %s (last 30 days)\\nTotal Cases: %s\\n\"  first(last30).date last(last30).date last(last30).cumcases;\n",
    "tit2 = @sprintf \"Covid 19 in the U.S.\\n7 Day Moving Average of Deaths\\n%s thru %s (last 15 days)\\nTotal Deaths: %s\\n\"  first(last15).date last(last15).date last(last15).cumdeaths;\n",
    "\n",
    "l15dmin = minimum(last15.madeaths7)\n",
    "l15dminr = round(l15dmin/100)*100 \n",
    "if l15dmin < l15dminr l15dminr -= 100 end \n",
    "\n",
    "l15dmax = maximum(last15.madeaths7)\n",
    "l15dmaxr = round(l15dmax/100)*100 \n",
    "if l15dmax > l15dmaxr l15dmaxr += 100 end \n",
    "\n",
    "l30cmin = minimum(last30.macases7)\n",
    "l30cminr = round(l30cmin/20000)*20000\n",
    "if l30cmin < l30cminr l30cminr -= 20000 end \n",
    "\n",
    "l30cmax = maximum(last30.macases7)\n",
    "l30cmaxr = round(l30cmax/20000)*20000 \n",
    "if l30cmax > l30cmaxr l30cmaxr += 20000 end \n",
    "\n",
    "\n",
    "\n",
    "plotcases=sb.lineplot(x=last30.date, y=last30.macases7,marker=\"o\",ax=ax1)\n",
    "plotcases.set_xticks(dtticks(last30.date,3))\n",
    "plotcases.set_xticklabels(rotation=45,labels=dtticks(last30.date,3),size=6)\n",
    "#plotcases.set_yticks(collect(40000:20000:180000))\n",
    "#plotcases.set_yticklabels(collect(40000:20000:180000),size=6)\n",
    "plotcases.set_yticks(collect(l30cminr:20000:l30cmaxr))\n",
    "plotcases.set_yticklabels(collect(l30cminr:20000:l30cmaxr),size=6)\n",
    "ax1.set_title(label=tit1,size=6) \n",
    "\n",
    "plotdeaths=sb.lineplot(x=last15.date, y=last15.madeaths7,marker=\"o\",ax=ax2)\n",
    "PyPlot.yticks(size=6) \n",
    "plotdeaths.set_xticks(dtticks(last15.date,2))\n",
    "plotdeaths.set_xticklabels(rotation=45,labels=dtticks(last15.date,2),size=6)\n",
    "ax2.set_title(label=tit2,size=6) \n",
    "#plotdeaths.set(ylim=[900,1500])\n",
    "plotdeaths.set(ylim=[l15dminr,l15dmaxr])\n",
    "\n",
    "fig.savefig(\"7ma.png\")\n",
    "\n",
    "pr(2)"
   ]
  },
  {
   "cell_type": "code",
   "execution_count": null,
   "metadata": {},
   "outputs": [],
   "source": []
  },
  {
   "cell_type": "code",
   "execution_count": null,
   "metadata": {},
   "outputs": [],
   "source": []
  }
 ],
 "metadata": {
  "anaconda-cloud": {},
  "kernelspec": {
   "display_name": "Julia 1.5.2",
   "language": "julia",
   "name": "julia-1.5"
  },
  "language_info": {
   "file_extension": ".jl",
   "mimetype": "application/julia",
   "name": "julia",
   "version": "1.5.2"
  }
 },
 "nbformat": 4,
 "nbformat_minor": 4
}
